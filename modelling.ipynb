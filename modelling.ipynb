{
 "cells": [
  {
   "cell_type": "code",
   "execution_count": 1,
   "id": "2a3b4e20",
   "metadata": {},
   "outputs": [],
   "source": [
    "#import necessary library \n",
    "import pandas as pd\n",
    "import numpy as np\n",
    "import seaborn as sns\n",
    "import matplotlib.pyplot as plt\n",
    "import warnings\n",
    "warnings.filterwarnings('ignore')"
   ]
  },
  {
   "cell_type": "markdown",
   "id": "c75e45d9",
   "metadata": {},
   "source": [
    "# Preprocessing"
   ]
  },
  {
   "cell_type": "code",
   "execution_count": 68,
   "id": "9c2ae374",
   "metadata": {},
   "outputs": [
    {
     "data": {
      "text/html": [
       "<div>\n",
       "<style scoped>\n",
       "    .dataframe tbody tr th:only-of-type {\n",
       "        vertical-align: middle;\n",
       "    }\n",
       "\n",
       "    .dataframe tbody tr th {\n",
       "        vertical-align: top;\n",
       "    }\n",
       "\n",
       "    .dataframe thead th {\n",
       "        text-align: right;\n",
       "    }\n",
       "</style>\n",
       "<table border=\"1\" class=\"dataframe\">\n",
       "  <thead>\n",
       "    <tr style=\"text-align: right;\">\n",
       "      <th></th>\n",
       "      <th>Unnamed: 0</th>\n",
       "      <th>id</th>\n",
       "      <th>CustomerId</th>\n",
       "      <th>Surname</th>\n",
       "      <th>CreditScore</th>\n",
       "      <th>Geography</th>\n",
       "      <th>Gender</th>\n",
       "      <th>Age</th>\n",
       "      <th>Tenure</th>\n",
       "      <th>Balance</th>\n",
       "      <th>NumOfProducts</th>\n",
       "      <th>HasCrCard</th>\n",
       "      <th>IsActiveMember</th>\n",
       "      <th>EstimatedSalary</th>\n",
       "      <th>churn</th>\n",
       "    </tr>\n",
       "  </thead>\n",
       "  <tbody>\n",
       "    <tr>\n",
       "      <th>0</th>\n",
       "      <td>0</td>\n",
       "      <td>7317</td>\n",
       "      <td>15637411</td>\n",
       "      <td>Tochukwu</td>\n",
       "      <td>749.0</td>\n",
       "      <td>France</td>\n",
       "      <td>Male</td>\n",
       "      <td>30.0</td>\n",
       "      <td>1</td>\n",
       "      <td>0.00</td>\n",
       "      <td>2</td>\n",
       "      <td>0</td>\n",
       "      <td>0</td>\n",
       "      <td>126551.65</td>\n",
       "      <td>1</td>\n",
       "    </tr>\n",
       "    <tr>\n",
       "      <th>1</th>\n",
       "      <td>1</td>\n",
       "      <td>11125</td>\n",
       "      <td>15745307</td>\n",
       "      <td>Martin</td>\n",
       "      <td>683.0</td>\n",
       "      <td>Germany</td>\n",
       "      <td>Male</td>\n",
       "      <td>32.0</td>\n",
       "      <td>7</td>\n",
       "      <td>121887.91</td>\n",
       "      <td>1</td>\n",
       "      <td>1</td>\n",
       "      <td>1</td>\n",
       "      <td>176570.46</td>\n",
       "      <td>0</td>\n",
       "    </tr>\n",
       "    <tr>\n",
       "      <th>2</th>\n",
       "      <td>2</td>\n",
       "      <td>45720</td>\n",
       "      <td>15677382</td>\n",
       "      <td>Aitken</td>\n",
       "      <td>711.0</td>\n",
       "      <td>Spain</td>\n",
       "      <td>Female</td>\n",
       "      <td>33.0</td>\n",
       "      <td>5</td>\n",
       "      <td>0.00</td>\n",
       "      <td>2</td>\n",
       "      <td>1</td>\n",
       "      <td>0</td>\n",
       "      <td>162703.80</td>\n",
       "      <td>0</td>\n",
       "    </tr>\n",
       "    <tr>\n",
       "      <th>3</th>\n",
       "      <td>3</td>\n",
       "      <td>74042</td>\n",
       "      <td>15694450</td>\n",
       "      <td>Tuan</td>\n",
       "      <td>722.0</td>\n",
       "      <td>France</td>\n",
       "      <td>Female</td>\n",
       "      <td>28.0</td>\n",
       "      <td>4</td>\n",
       "      <td>0.00</td>\n",
       "      <td>2</td>\n",
       "      <td>1</td>\n",
       "      <td>1</td>\n",
       "      <td>76615.31</td>\n",
       "      <td>0</td>\n",
       "    </tr>\n",
       "    <tr>\n",
       "      <th>4</th>\n",
       "      <td>4</td>\n",
       "      <td>109985</td>\n",
       "      <td>15734987</td>\n",
       "      <td>Aitken</td>\n",
       "      <td>754.0</td>\n",
       "      <td>France</td>\n",
       "      <td>Female</td>\n",
       "      <td>67.0</td>\n",
       "      <td>3</td>\n",
       "      <td>0.00</td>\n",
       "      <td>2</td>\n",
       "      <td>1</td>\n",
       "      <td>1</td>\n",
       "      <td>114514.92</td>\n",
       "      <td>0</td>\n",
       "    </tr>\n",
       "  </tbody>\n",
       "</table>\n",
       "</div>"
      ],
      "text/plain": [
       "   Unnamed: 0      id  CustomerId   Surname  CreditScore Geography  Gender  \\\n",
       "0           0    7317    15637411  Tochukwu        749.0    France    Male   \n",
       "1           1   11125    15745307    Martin        683.0   Germany    Male   \n",
       "2           2   45720    15677382    Aitken        711.0     Spain  Female   \n",
       "3           3   74042    15694450      Tuan        722.0    France  Female   \n",
       "4           4  109985    15734987    Aitken        754.0    France  Female   \n",
       "\n",
       "    Age  Tenure    Balance  NumOfProducts  HasCrCard  IsActiveMember  \\\n",
       "0  30.0       1       0.00              2          0               0   \n",
       "1  32.0       7  121887.91              1          1               1   \n",
       "2  33.0       5       0.00              2          1               0   \n",
       "3  28.0       4       0.00              2          1               1   \n",
       "4  67.0       3       0.00              2          1               1   \n",
       "\n",
       "   EstimatedSalary  churn  \n",
       "0        126551.65      1  \n",
       "1        176570.46      0  \n",
       "2        162703.80      0  \n",
       "3         76615.31      0  \n",
       "4        114514.92      0  "
      ]
     },
     "execution_count": 68,
     "metadata": {},
     "output_type": "execute_result"
    }
   ],
   "source": [
    "df = pd.read_csv('data_A.csv')\n",
    "df.head()"
   ]
  },
  {
   "cell_type": "code",
   "execution_count": 69,
   "id": "d235c14b",
   "metadata": {},
   "outputs": [
    {
     "data": {
      "text/html": [
       "<div>\n",
       "<style scoped>\n",
       "    .dataframe tbody tr th:only-of-type {\n",
       "        vertical-align: middle;\n",
       "    }\n",
       "\n",
       "    .dataframe tbody tr th {\n",
       "        vertical-align: top;\n",
       "    }\n",
       "\n",
       "    .dataframe thead th {\n",
       "        text-align: right;\n",
       "    }\n",
       "</style>\n",
       "<table border=\"1\" class=\"dataframe\">\n",
       "  <thead>\n",
       "    <tr style=\"text-align: right;\">\n",
       "      <th></th>\n",
       "      <th>CreditScore</th>\n",
       "      <th>Geography</th>\n",
       "      <th>Gender</th>\n",
       "      <th>Age</th>\n",
       "      <th>Tenure</th>\n",
       "      <th>Balance</th>\n",
       "      <th>NumOfProducts</th>\n",
       "      <th>HasCrCard</th>\n",
       "      <th>IsActiveMember</th>\n",
       "      <th>EstimatedSalary</th>\n",
       "      <th>churn</th>\n",
       "    </tr>\n",
       "  </thead>\n",
       "  <tbody>\n",
       "    <tr>\n",
       "      <th>0</th>\n",
       "      <td>749.0</td>\n",
       "      <td>France</td>\n",
       "      <td>Male</td>\n",
       "      <td>30.0</td>\n",
       "      <td>1</td>\n",
       "      <td>0.00</td>\n",
       "      <td>2</td>\n",
       "      <td>0</td>\n",
       "      <td>0</td>\n",
       "      <td>126551.65</td>\n",
       "      <td>1</td>\n",
       "    </tr>\n",
       "    <tr>\n",
       "      <th>1</th>\n",
       "      <td>683.0</td>\n",
       "      <td>Germany</td>\n",
       "      <td>Male</td>\n",
       "      <td>32.0</td>\n",
       "      <td>7</td>\n",
       "      <td>121887.91</td>\n",
       "      <td>1</td>\n",
       "      <td>1</td>\n",
       "      <td>1</td>\n",
       "      <td>176570.46</td>\n",
       "      <td>0</td>\n",
       "    </tr>\n",
       "    <tr>\n",
       "      <th>2</th>\n",
       "      <td>711.0</td>\n",
       "      <td>Spain</td>\n",
       "      <td>Female</td>\n",
       "      <td>33.0</td>\n",
       "      <td>5</td>\n",
       "      <td>0.00</td>\n",
       "      <td>2</td>\n",
       "      <td>1</td>\n",
       "      <td>0</td>\n",
       "      <td>162703.80</td>\n",
       "      <td>0</td>\n",
       "    </tr>\n",
       "    <tr>\n",
       "      <th>3</th>\n",
       "      <td>722.0</td>\n",
       "      <td>France</td>\n",
       "      <td>Female</td>\n",
       "      <td>28.0</td>\n",
       "      <td>4</td>\n",
       "      <td>0.00</td>\n",
       "      <td>2</td>\n",
       "      <td>1</td>\n",
       "      <td>1</td>\n",
       "      <td>76615.31</td>\n",
       "      <td>0</td>\n",
       "    </tr>\n",
       "    <tr>\n",
       "      <th>4</th>\n",
       "      <td>754.0</td>\n",
       "      <td>France</td>\n",
       "      <td>Female</td>\n",
       "      <td>67.0</td>\n",
       "      <td>3</td>\n",
       "      <td>0.00</td>\n",
       "      <td>2</td>\n",
       "      <td>1</td>\n",
       "      <td>1</td>\n",
       "      <td>114514.92</td>\n",
       "      <td>0</td>\n",
       "    </tr>\n",
       "  </tbody>\n",
       "</table>\n",
       "</div>"
      ],
      "text/plain": [
       "   CreditScore Geography  Gender   Age  Tenure    Balance  NumOfProducts  \\\n",
       "0        749.0    France    Male  30.0       1       0.00              2   \n",
       "1        683.0   Germany    Male  32.0       7  121887.91              1   \n",
       "2        711.0     Spain  Female  33.0       5       0.00              2   \n",
       "3        722.0    France  Female  28.0       4       0.00              2   \n",
       "4        754.0    France  Female  67.0       3       0.00              2   \n",
       "\n",
       "   HasCrCard  IsActiveMember  EstimatedSalary  churn  \n",
       "0          0               0        126551.65      1  \n",
       "1          1               1        176570.46      0  \n",
       "2          1               0        162703.80      0  \n",
       "3          1               1         76615.31      0  \n",
       "4          1               1        114514.92      0  "
      ]
     },
     "execution_count": 69,
     "metadata": {},
     "output_type": "execute_result"
    }
   ],
   "source": [
    "#Drop a few uneccessary columns\n",
    "\n",
    "#These columns i drop, are too cardinal and are all unique value, which is useless in modelling.\n",
    "df.drop(['Unnamed: 0','CustomerId','id','Surname'], axis = 1, inplace = True)\n",
    "df.head()"
   ]
  },
  {
   "cell_type": "markdown",
   "id": "c278dc8f",
   "metadata": {},
   "source": [
    "# EDA"
   ]
  },
  {
   "cell_type": "code",
   "execution_count": 70,
   "id": "1bb854c8",
   "metadata": {},
   "outputs": [
    {
     "data": {
      "text/plain": [
       "(41258, 11)"
      ]
     },
     "execution_count": 70,
     "metadata": {},
     "output_type": "execute_result"
    }
   ],
   "source": [
    "#check size\n",
    "df.shape"
   ]
  },
  {
   "cell_type": "code",
   "execution_count": 71,
   "id": "26c16e16",
   "metadata": {},
   "outputs": [
    {
     "data": {
      "text/html": [
       "<div>\n",
       "<style scoped>\n",
       "    .dataframe tbody tr th:only-of-type {\n",
       "        vertical-align: middle;\n",
       "    }\n",
       "\n",
       "    .dataframe tbody tr th {\n",
       "        vertical-align: top;\n",
       "    }\n",
       "\n",
       "    .dataframe thead th {\n",
       "        text-align: right;\n",
       "    }\n",
       "</style>\n",
       "<table border=\"1\" class=\"dataframe\">\n",
       "  <thead>\n",
       "    <tr style=\"text-align: right;\">\n",
       "      <th></th>\n",
       "      <th>count</th>\n",
       "      <th>mean</th>\n",
       "      <th>std</th>\n",
       "      <th>min</th>\n",
       "      <th>25%</th>\n",
       "      <th>50%</th>\n",
       "      <th>75%</th>\n",
       "      <th>max</th>\n",
       "    </tr>\n",
       "  </thead>\n",
       "  <tbody>\n",
       "    <tr>\n",
       "      <th>CreditScore</th>\n",
       "      <td>41238.0</td>\n",
       "      <td>657.212619</td>\n",
       "      <td>80.324627</td>\n",
       "      <td>350.00</td>\n",
       "      <td>598.0000</td>\n",
       "      <td>661.00</td>\n",
       "      <td>711.0000</td>\n",
       "      <td>850.00</td>\n",
       "    </tr>\n",
       "    <tr>\n",
       "      <th>Age</th>\n",
       "      <td>41258.0</td>\n",
       "      <td>38.113117</td>\n",
       "      <td>8.825835</td>\n",
       "      <td>18.00</td>\n",
       "      <td>32.0000</td>\n",
       "      <td>37.00</td>\n",
       "      <td>42.0000</td>\n",
       "      <td>92.00</td>\n",
       "    </tr>\n",
       "    <tr>\n",
       "      <th>Tenure</th>\n",
       "      <td>41258.0</td>\n",
       "      <td>5.020408</td>\n",
       "      <td>2.798614</td>\n",
       "      <td>0.00</td>\n",
       "      <td>3.0000</td>\n",
       "      <td>5.00</td>\n",
       "      <td>7.0000</td>\n",
       "      <td>10.00</td>\n",
       "    </tr>\n",
       "    <tr>\n",
       "      <th>Balance</th>\n",
       "      <td>41258.0</td>\n",
       "      <td>55845.162728</td>\n",
       "      <td>62912.415027</td>\n",
       "      <td>0.00</td>\n",
       "      <td>0.0000</td>\n",
       "      <td>0.00</td>\n",
       "      <td>120139.7625</td>\n",
       "      <td>238387.56</td>\n",
       "    </tr>\n",
       "    <tr>\n",
       "      <th>NumOfProducts</th>\n",
       "      <td>41258.0</td>\n",
       "      <td>1.554801</td>\n",
       "      <td>0.545583</td>\n",
       "      <td>1.00</td>\n",
       "      <td>1.0000</td>\n",
       "      <td>2.00</td>\n",
       "      <td>2.0000</td>\n",
       "      <td>4.00</td>\n",
       "    </tr>\n",
       "    <tr>\n",
       "      <th>HasCrCard</th>\n",
       "      <td>41258.0</td>\n",
       "      <td>0.753817</td>\n",
       "      <td>0.430791</td>\n",
       "      <td>0.00</td>\n",
       "      <td>1.0000</td>\n",
       "      <td>1.00</td>\n",
       "      <td>1.0000</td>\n",
       "      <td>1.00</td>\n",
       "    </tr>\n",
       "    <tr>\n",
       "      <th>IsActiveMember</th>\n",
       "      <td>41258.0</td>\n",
       "      <td>0.501018</td>\n",
       "      <td>0.500005</td>\n",
       "      <td>0.00</td>\n",
       "      <td>0.0000</td>\n",
       "      <td>1.00</td>\n",
       "      <td>1.0000</td>\n",
       "      <td>1.00</td>\n",
       "    </tr>\n",
       "    <tr>\n",
       "      <th>EstimatedSalary</th>\n",
       "      <td>41258.0</td>\n",
       "      <td>112741.993562</td>\n",
       "      <td>50293.991764</td>\n",
       "      <td>11.58</td>\n",
       "      <td>74838.2075</td>\n",
       "      <td>118711.75</td>\n",
       "      <td>155642.6450</td>\n",
       "      <td>199992.48</td>\n",
       "    </tr>\n",
       "    <tr>\n",
       "      <th>churn</th>\n",
       "      <td>41258.0</td>\n",
       "      <td>0.208760</td>\n",
       "      <td>0.406427</td>\n",
       "      <td>0.00</td>\n",
       "      <td>0.0000</td>\n",
       "      <td>0.00</td>\n",
       "      <td>0.0000</td>\n",
       "      <td>1.00</td>\n",
       "    </tr>\n",
       "  </tbody>\n",
       "</table>\n",
       "</div>"
      ],
      "text/plain": [
       "                   count           mean           std     min         25%  \\\n",
       "CreditScore      41238.0     657.212619     80.324627  350.00    598.0000   \n",
       "Age              41258.0      38.113117      8.825835   18.00     32.0000   \n",
       "Tenure           41258.0       5.020408      2.798614    0.00      3.0000   \n",
       "Balance          41258.0   55845.162728  62912.415027    0.00      0.0000   \n",
       "NumOfProducts    41258.0       1.554801      0.545583    1.00      1.0000   \n",
       "HasCrCard        41258.0       0.753817      0.430791    0.00      1.0000   \n",
       "IsActiveMember   41258.0       0.501018      0.500005    0.00      0.0000   \n",
       "EstimatedSalary  41258.0  112741.993562  50293.991764   11.58  74838.2075   \n",
       "churn            41258.0       0.208760      0.406427    0.00      0.0000   \n",
       "\n",
       "                       50%          75%        max  \n",
       "CreditScore         661.00     711.0000     850.00  \n",
       "Age                  37.00      42.0000      92.00  \n",
       "Tenure                5.00       7.0000      10.00  \n",
       "Balance               0.00  120139.7625  238387.56  \n",
       "NumOfProducts         2.00       2.0000       4.00  \n",
       "HasCrCard             1.00       1.0000       1.00  \n",
       "IsActiveMember        1.00       1.0000       1.00  \n",
       "EstimatedSalary  118711.75  155642.6450  199992.48  \n",
       "churn                 0.00       0.0000       1.00  "
      ]
     },
     "execution_count": 71,
     "metadata": {},
     "output_type": "execute_result"
    }
   ],
   "source": [
    "df.describe().T"
   ]
  },
  {
   "cell_type": "code",
   "execution_count": 72,
   "id": "8e3d83c3",
   "metadata": {},
   "outputs": [
    {
     "data": {
      "text/plain": [
       "array(['France', 'Germany', 'Spain'], dtype=object)"
      ]
     },
     "execution_count": 72,
     "metadata": {},
     "output_type": "execute_result"
    }
   ],
   "source": [
    "#print unique value for 'Geography'\n",
    "df['Geography'].unique()"
   ]
  },
  {
   "cell_type": "code",
   "execution_count": 73,
   "id": "f78e6bcb",
   "metadata": {},
   "outputs": [
    {
     "data": {
      "text/plain": [
       "array(['Male', 'Female'], dtype=object)"
      ]
     },
     "execution_count": 73,
     "metadata": {},
     "output_type": "execute_result"
    }
   ],
   "source": [
    "#print unique value for 'Gender'\n",
    "df['Gender'].unique()"
   ]
  },
  {
   "cell_type": "markdown",
   "id": "a89cf6f3",
   "metadata": {},
   "source": [
    "#### Since both object variable are low in cardinality, i will use OHE encoder"
   ]
  },
  {
   "cell_type": "code",
   "execution_count": 74,
   "id": "97a49ead",
   "metadata": {},
   "outputs": [
    {
     "name": "stdout",
     "output_type": "stream",
     "text": [
      "<class 'pandas.core.frame.DataFrame'>\n",
      "RangeIndex: 41258 entries, 0 to 41257\n",
      "Data columns (total 11 columns):\n",
      " #   Column           Non-Null Count  Dtype  \n",
      "---  ------           --------------  -----  \n",
      " 0   CreditScore      41238 non-null  float64\n",
      " 1   Geography        41258 non-null  object \n",
      " 2   Gender           41258 non-null  object \n",
      " 3   Age              41258 non-null  float64\n",
      " 4   Tenure           41258 non-null  int64  \n",
      " 5   Balance          41258 non-null  float64\n",
      " 6   NumOfProducts    41258 non-null  int64  \n",
      " 7   HasCrCard        41258 non-null  int64  \n",
      " 8   IsActiveMember   41258 non-null  int64  \n",
      " 9   EstimatedSalary  41258 non-null  float64\n",
      " 10  churn            41258 non-null  int64  \n",
      "dtypes: float64(4), int64(5), object(2)\n",
      "memory usage: 3.5+ MB\n"
     ]
    }
   ],
   "source": [
    "df.info()"
   ]
  },
  {
   "cell_type": "code",
   "execution_count": 75,
   "id": "faef8733",
   "metadata": {},
   "outputs": [
    {
     "data": {
      "text/plain": [
       "CreditScore        20\n",
       "Geography           0\n",
       "Gender              0\n",
       "Age                 0\n",
       "Tenure              0\n",
       "Balance             0\n",
       "NumOfProducts       0\n",
       "HasCrCard           0\n",
       "IsActiveMember      0\n",
       "EstimatedSalary     0\n",
       "churn               0\n",
       "dtype: int64"
      ]
     },
     "execution_count": 75,
     "metadata": {},
     "output_type": "execute_result"
    }
   ],
   "source": [
    "df.isna().sum()"
   ]
  },
  {
   "cell_type": "code",
   "execution_count": 76,
   "id": "2f7c7f97",
   "metadata": {},
   "outputs": [],
   "source": [
    "df.dropna(axis = 1, inplace = True)"
   ]
  },
  {
   "cell_type": "code",
   "execution_count": 77,
   "id": "add13914",
   "metadata": {},
   "outputs": [
    {
     "data": {
      "image/png": "[encoded data removed]",
      "text/plain": [
       "<Figure size 640x480 with 1 Axes>"
      ]
     },
     "metadata": {},
     "output_type": "display_data"
    }
   ],
   "source": [
    "sns.histplot(x = df['Age'])\n",
    "plt.show()"
   ]
  },
  {
   "cell_type": "code",
   "execution_count": 78,
   "id": "01f82fc8",
   "metadata": {},
   "outputs": [
    {
     "name": "stdout",
     "output_type": "stream",
     "text": [
      "churn              1.000000\n",
      "Age                0.342282\n",
      "Balance            0.125878\n",
      "EstimatedSalary    0.018894\n",
      "Tenure            -0.022690\n",
      "HasCrCard         -0.023345\n",
      "IsActiveMember    -0.207688\n",
      "NumOfProducts     -0.212335\n",
      "Name: churn, dtype: float64\n"
     ]
    }
   ],
   "source": [
    "#do a simple correlation analysis to check how each variable correlates to the target variable.\n",
    "correlation_with_target = df.drop(['Geography','Gender'], axis = 1).corr()['churn'].sort_values(ascending=False)\n",
    "\n",
    "print(correlation_with_target)"
   ]
  },
  {
   "cell_type": "markdown",
   "id": "2ef99904",
   "metadata": {},
   "source": [
    "# Feature Engineering"
   ]
  },
  {
   "cell_type": "code",
   "execution_count": 79,
   "id": "53c12d6d",
   "metadata": {},
   "outputs": [
    {
     "data": {
      "text/html": [
       "<div>\n",
       "<style scoped>\n",
       "    .dataframe tbody tr th:only-of-type {\n",
       "        vertical-align: middle;\n",
       "    }\n",
       "\n",
       "    .dataframe tbody tr th {\n",
       "        vertical-align: top;\n",
       "    }\n",
       "\n",
       "    .dataframe thead th {\n",
       "        text-align: right;\n",
       "    }\n",
       "</style>\n",
       "<table border=\"1\" class=\"dataframe\">\n",
       "  <thead>\n",
       "    <tr style=\"text-align: right;\">\n",
       "      <th></th>\n",
       "      <th>Age</th>\n",
       "      <th>Tenure</th>\n",
       "      <th>Balance</th>\n",
       "      <th>NumOfProducts</th>\n",
       "      <th>HasCrCard</th>\n",
       "      <th>IsActiveMember</th>\n",
       "      <th>EstimatedSalary</th>\n",
       "      <th>churn</th>\n",
       "      <th>Geography_France</th>\n",
       "      <th>Geography_Germany</th>\n",
       "      <th>Geography_Spain</th>\n",
       "      <th>Gender_Female</th>\n",
       "      <th>Gender_Male</th>\n",
       "    </tr>\n",
       "  </thead>\n",
       "  <tbody>\n",
       "    <tr>\n",
       "      <th>0</th>\n",
       "      <td>30.0</td>\n",
       "      <td>1</td>\n",
       "      <td>0.00</td>\n",
       "      <td>2</td>\n",
       "      <td>0</td>\n",
       "      <td>0</td>\n",
       "      <td>126551.65</td>\n",
       "      <td>1</td>\n",
       "      <td>True</td>\n",
       "      <td>False</td>\n",
       "      <td>False</td>\n",
       "      <td>False</td>\n",
       "      <td>True</td>\n",
       "    </tr>\n",
       "    <tr>\n",
       "      <th>1</th>\n",
       "      <td>32.0</td>\n",
       "      <td>7</td>\n",
       "      <td>121887.91</td>\n",
       "      <td>1</td>\n",
       "      <td>1</td>\n",
       "      <td>1</td>\n",
       "      <td>176570.46</td>\n",
       "      <td>0</td>\n",
       "      <td>False</td>\n",
       "      <td>True</td>\n",
       "      <td>False</td>\n",
       "      <td>False</td>\n",
       "      <td>True</td>\n",
       "    </tr>\n",
       "    <tr>\n",
       "      <th>2</th>\n",
       "      <td>33.0</td>\n",
       "      <td>5</td>\n",
       "      <td>0.00</td>\n",
       "      <td>2</td>\n",
       "      <td>1</td>\n",
       "      <td>0</td>\n",
       "      <td>162703.80</td>\n",
       "      <td>0</td>\n",
       "      <td>False</td>\n",
       "      <td>False</td>\n",
       "      <td>True</td>\n",
       "      <td>True</td>\n",
       "      <td>False</td>\n",
       "    </tr>\n",
       "    <tr>\n",
       "      <th>3</th>\n",
       "      <td>28.0</td>\n",
       "      <td>4</td>\n",
       "      <td>0.00</td>\n",
       "      <td>2</td>\n",
       "      <td>1</td>\n",
       "      <td>1</td>\n",
       "      <td>76615.31</td>\n",
       "      <td>0</td>\n",
       "      <td>True</td>\n",
       "      <td>False</td>\n",
       "      <td>False</td>\n",
       "      <td>True</td>\n",
       "      <td>False</td>\n",
       "    </tr>\n",
       "    <tr>\n",
       "      <th>4</th>\n",
       "      <td>67.0</td>\n",
       "      <td>3</td>\n",
       "      <td>0.00</td>\n",
       "      <td>2</td>\n",
       "      <td>1</td>\n",
       "      <td>1</td>\n",
       "      <td>114514.92</td>\n",
       "      <td>0</td>\n",
       "      <td>True</td>\n",
       "      <td>False</td>\n",
       "      <td>False</td>\n",
       "      <td>True</td>\n",
       "      <td>False</td>\n",
       "    </tr>\n",
       "  </tbody>\n",
       "</table>\n",
       "</div>"
      ],
      "text/plain": [
       "    Age  Tenure    Balance  NumOfProducts  HasCrCard  IsActiveMember  \\\n",
       "0  30.0       1       0.00              2          0               0   \n",
       "1  32.0       7  121887.91              1          1               1   \n",
       "2  33.0       5       0.00              2          1               0   \n",
       "3  28.0       4       0.00              2          1               1   \n",
       "4  67.0       3       0.00              2          1               1   \n",
       "\n",
       "   EstimatedSalary  churn  Geography_France  Geography_Germany  \\\n",
       "0        126551.65      1              True              False   \n",
       "1        176570.46      0             False               True   \n",
       "2        162703.80      0             False              False   \n",
       "3         76615.31      0              True              False   \n",
       "4        114514.92      0              True              False   \n",
       "\n",
       "   Geography_Spain  Gender_Female  Gender_Male  \n",
       "0            False          False         True  \n",
       "1            False          False         True  \n",
       "2             True           True        False  \n",
       "3            False           True        False  \n",
       "4            False           True        False  "
      ]
     },
     "execution_count": 79,
     "metadata": {},
     "output_type": "execute_result"
    }
   ],
   "source": [
    "# One-hot encode 'Geography'\n",
    "df = pd.get_dummies(df, columns=['Geography','Gender'])\n",
    "\n",
    "# Display the DataFrame\n",
    "df.head()"
   ]
  },
  {
   "cell_type": "code",
   "execution_count": 80,
   "id": "9ce0ec4c",
   "metadata": {},
   "outputs": [
    {
     "data": {
      "text/plain": [
       "Index(['Age', 'Tenure', 'Balance', 'NumOfProducts', 'HasCrCard',\n",
       "       'IsActiveMember', 'EstimatedSalary', 'churn', 'Geography_France',\n",
       "       'Geography_Germany', 'Geography_Spain', 'Gender_Female', 'Gender_Male'],\n",
       "      dtype='object')"
      ]
     },
     "execution_count": 80,
     "metadata": {},
     "output_type": "execute_result"
    }
   ],
   "source": [
    "df.columns"
   ]
  },
  {
   "cell_type": "code",
   "execution_count": 81,
   "id": "2fd51511",
   "metadata": {},
   "outputs": [],
   "source": [
    "df[['Geography_France', 'Geography_Germany', 'Geography_Spain', 'Gender_Female', 'Gender_Male']] = df[['Geography_France', 'Geography_Germany', 'Geography_Spain', 'Gender_Female', 'Gender_Male']].astype(int)"
   ]
  },
  {
   "cell_type": "code",
   "execution_count": 82,
   "id": "592901aa",
   "metadata": {},
   "outputs": [
    {
     "data": {
      "text/html": [
       "<div>\n",
       "<style scoped>\n",
       "    .dataframe tbody tr th:only-of-type {\n",
       "        vertical-align: middle;\n",
       "    }\n",
       "\n",
       "    .dataframe tbody tr th {\n",
       "        vertical-align: top;\n",
       "    }\n",
       "\n",
       "    .dataframe thead th {\n",
       "        text-align: right;\n",
       "    }\n",
       "</style>\n",
       "<table border=\"1\" class=\"dataframe\">\n",
       "  <thead>\n",
       "    <tr style=\"text-align: right;\">\n",
       "      <th></th>\n",
       "      <th>Age</th>\n",
       "      <th>Tenure</th>\n",
       "      <th>Balance</th>\n",
       "      <th>NumOfProducts</th>\n",
       "      <th>HasCrCard</th>\n",
       "      <th>IsActiveMember</th>\n",
       "      <th>EstimatedSalary</th>\n",
       "      <th>churn</th>\n",
       "      <th>Geography_France</th>\n",
       "      <th>Geography_Germany</th>\n",
       "      <th>Geography_Spain</th>\n",
       "      <th>Gender_Female</th>\n",
       "      <th>Gender_Male</th>\n",
       "    </tr>\n",
       "  </thead>\n",
       "  <tbody>\n",
       "    <tr>\n",
       "      <th>0</th>\n",
       "      <td>30.0</td>\n",
       "      <td>1</td>\n",
       "      <td>0.00</td>\n",
       "      <td>2</td>\n",
       "      <td>0</td>\n",
       "      <td>0</td>\n",
       "      <td>126551.65</td>\n",
       "      <td>1</td>\n",
       "      <td>1</td>\n",
       "      <td>0</td>\n",
       "      <td>0</td>\n",
       "      <td>0</td>\n",
       "      <td>1</td>\n",
       "    </tr>\n",
       "    <tr>\n",
       "      <th>1</th>\n",
       "      <td>32.0</td>\n",
       "      <td>7</td>\n",
       "      <td>121887.91</td>\n",
       "      <td>1</td>\n",
       "      <td>1</td>\n",
       "      <td>1</td>\n",
       "      <td>176570.46</td>\n",
       "      <td>0</td>\n",
       "      <td>0</td>\n",
       "      <td>1</td>\n",
       "      <td>0</td>\n",
       "      <td>0</td>\n",
       "      <td>1</td>\n",
       "    </tr>\n",
       "    <tr>\n",
       "      <th>2</th>\n",
       "      <td>33.0</td>\n",
       "      <td>5</td>\n",
       "      <td>0.00</td>\n",
       "      <td>2</td>\n",
       "      <td>1</td>\n",
       "      <td>0</td>\n",
       "      <td>162703.80</td>\n",
       "      <td>0</td>\n",
       "      <td>0</td>\n",
       "      <td>0</td>\n",
       "      <td>1</td>\n",
       "      <td>1</td>\n",
       "      <td>0</td>\n",
       "    </tr>\n",
       "    <tr>\n",
       "      <th>3</th>\n",
       "      <td>28.0</td>\n",
       "      <td>4</td>\n",
       "      <td>0.00</td>\n",
       "      <td>2</td>\n",
       "      <td>1</td>\n",
       "      <td>1</td>\n",
       "      <td>76615.31</td>\n",
       "      <td>0</td>\n",
       "      <td>1</td>\n",
       "      <td>0</td>\n",
       "      <td>0</td>\n",
       "      <td>1</td>\n",
       "      <td>0</td>\n",
       "    </tr>\n",
       "    <tr>\n",
       "      <th>4</th>\n",
       "      <td>67.0</td>\n",
       "      <td>3</td>\n",
       "      <td>0.00</td>\n",
       "      <td>2</td>\n",
       "      <td>1</td>\n",
       "      <td>1</td>\n",
       "      <td>114514.92</td>\n",
       "      <td>0</td>\n",
       "      <td>1</td>\n",
       "      <td>0</td>\n",
       "      <td>0</td>\n",
       "      <td>1</td>\n",
       "      <td>0</td>\n",
       "    </tr>\n",
       "  </tbody>\n",
       "</table>\n",
       "</div>"
      ],
      "text/plain": [
       "    Age  Tenure    Balance  NumOfProducts  HasCrCard  IsActiveMember  \\\n",
       "0  30.0       1       0.00              2          0               0   \n",
       "1  32.0       7  121887.91              1          1               1   \n",
       "2  33.0       5       0.00              2          1               0   \n",
       "3  28.0       4       0.00              2          1               1   \n",
       "4  67.0       3       0.00              2          1               1   \n",
       "\n",
       "   EstimatedSalary  churn  Geography_France  Geography_Germany  \\\n",
       "0        126551.65      1                 1                  0   \n",
       "1        176570.46      0                 0                  1   \n",
       "2        162703.80      0                 0                  0   \n",
       "3         76615.31      0                 1                  0   \n",
       "4        114514.92      0                 1                  0   \n",
       "\n",
       "   Geography_Spain  Gender_Female  Gender_Male  \n",
       "0                0              0            1  \n",
       "1                0              0            1  \n",
       "2                1              1            0  \n",
       "3                0              1            0  \n",
       "4                0              1            0  "
      ]
     },
     "execution_count": 82,
     "metadata": {},
     "output_type": "execute_result"
    }
   ],
   "source": [
    "df.head()"
   ]
  },
  {
   "cell_type": "code",
   "execution_count": 83,
   "id": "a42e9d45",
   "metadata": {},
   "outputs": [],
   "source": [
    "from sklearn.model_selection import train_test_split"
   ]
  },
  {
   "cell_type": "code",
   "execution_count": 95,
   "id": "0e57fb8c",
   "metadata": {},
   "outputs": [],
   "source": [
    "x = df.drop('churn', axis = 1)\n",
    "y = df['churn']\n",
    "\n",
    "x_train,x_test,y_train,y_test = train_test_split(x,y,test_size = 0.3, random_state = 42,stratify=y)"
   ]
  },
  {
   "cell_type": "code",
   "execution_count": 85,
   "id": "d2a1b167",
   "metadata": {},
   "outputs": [
    {
     "name": "stdout",
     "output_type": "stream",
     "text": [
      "length of train set : 28880\n",
      "length of test set : 12378\n"
     ]
    }
   ],
   "source": [
    "print(f\"length of train set : {len(x_train)}\")\n",
    "print(f\"length of test set : {len(x_test)}\")"
   ]
  },
  {
   "cell_type": "code",
   "execution_count": 86,
   "id": "2043f356",
   "metadata": {},
   "outputs": [],
   "source": [
    "#scaling \n",
    "from sklearn.preprocessing import StandardScaler\n",
    "scaler = StandardScaler()"
   ]
  },
  {
   "cell_type": "code",
   "execution_count": 96,
   "id": "5bdbcc3d",
   "metadata": {},
   "outputs": [],
   "source": [
    "x_train_scaled = scaler.fit_transform(x_train,y_train)\n",
    "x_test_scaled = scaler.transform(x_test)\n",
    "\n",
    "x_train_scaled = pd.DataFrame(x_train_scaled, columns=x_train.columns)\n",
    "x_test_scaled = pd.DataFrame(x_test_scaled, columns=x_train.columns)"
   ]
  },
  {
   "cell_type": "code",
   "execution_count": 88,
   "id": "e1711e4a",
   "metadata": {},
   "outputs": [
    {
     "data": {
      "text/html": [
       "<div>\n",
       "<style scoped>\n",
       "    .dataframe tbody tr th:only-of-type {\n",
       "        vertical-align: middle;\n",
       "    }\n",
       "\n",
       "    .dataframe tbody tr th {\n",
       "        vertical-align: top;\n",
       "    }\n",
       "\n",
       "    .dataframe thead th {\n",
       "        text-align: right;\n",
       "    }\n",
       "</style>\n",
       "<table border=\"1\" class=\"dataframe\">\n",
       "  <thead>\n",
       "    <tr style=\"text-align: right;\">\n",
       "      <th></th>\n",
       "      <th>Age</th>\n",
       "      <th>Tenure</th>\n",
       "      <th>Balance</th>\n",
       "      <th>NumOfProducts</th>\n",
       "      <th>HasCrCard</th>\n",
       "      <th>IsActiveMember</th>\n",
       "      <th>EstimatedSalary</th>\n",
       "      <th>Geography_France</th>\n",
       "      <th>Geography_Germany</th>\n",
       "      <th>Geography_Spain</th>\n",
       "      <th>Gender_Female</th>\n",
       "      <th>Gender_Male</th>\n",
       "    </tr>\n",
       "  </thead>\n",
       "  <tbody>\n",
       "    <tr>\n",
       "      <th>0</th>\n",
       "      <td>-0.242926</td>\n",
       "      <td>0.351456</td>\n",
       "      <td>-0.888770</td>\n",
       "      <td>0.818032</td>\n",
       "      <td>0.576124</td>\n",
       "      <td>0.988022</td>\n",
       "      <td>0.566877</td>\n",
       "      <td>0.866384</td>\n",
       "      <td>-0.514730</td>\n",
       "      <td>-0.530035</td>\n",
       "      <td>-0.869450</td>\n",
       "      <td>0.869450</td>\n",
       "    </tr>\n",
       "    <tr>\n",
       "      <th>1</th>\n",
       "      <td>-0.695400</td>\n",
       "      <td>0.708740</td>\n",
       "      <td>-0.888770</td>\n",
       "      <td>0.818032</td>\n",
       "      <td>0.576124</td>\n",
       "      <td>-1.012123</td>\n",
       "      <td>1.294281</td>\n",
       "      <td>0.866384</td>\n",
       "      <td>-0.514730</td>\n",
       "      <td>-0.530035</td>\n",
       "      <td>-0.869450</td>\n",
       "      <td>0.869450</td>\n",
       "    </tr>\n",
       "    <tr>\n",
       "      <th>2</th>\n",
       "      <td>0.548902</td>\n",
       "      <td>-0.720393</td>\n",
       "      <td>0.756908</td>\n",
       "      <td>-1.018327</td>\n",
       "      <td>0.576124</td>\n",
       "      <td>-1.012123</td>\n",
       "      <td>1.439798</td>\n",
       "      <td>-1.154223</td>\n",
       "      <td>1.942767</td>\n",
       "      <td>-0.530035</td>\n",
       "      <td>-0.869450</td>\n",
       "      <td>0.869450</td>\n",
       "    </tr>\n",
       "    <tr>\n",
       "      <th>3</th>\n",
       "      <td>2.358796</td>\n",
       "      <td>1.066023</td>\n",
       "      <td>1.226227</td>\n",
       "      <td>-1.018327</td>\n",
       "      <td>-1.735737</td>\n",
       "      <td>-1.012123</td>\n",
       "      <td>-0.827333</td>\n",
       "      <td>0.866384</td>\n",
       "      <td>-0.514730</td>\n",
       "      <td>-0.530035</td>\n",
       "      <td>1.150152</td>\n",
       "      <td>-1.150152</td>\n",
       "    </tr>\n",
       "    <tr>\n",
       "      <th>4</th>\n",
       "      <td>-1.487229</td>\n",
       "      <td>-0.005827</td>\n",
       "      <td>-0.888770</td>\n",
       "      <td>0.818032</td>\n",
       "      <td>0.576124</td>\n",
       "      <td>0.988022</td>\n",
       "      <td>-0.347816</td>\n",
       "      <td>0.866384</td>\n",
       "      <td>-0.514730</td>\n",
       "      <td>-0.530035</td>\n",
       "      <td>1.150152</td>\n",
       "      <td>-1.150152</td>\n",
       "    </tr>\n",
       "  </tbody>\n",
       "</table>\n",
       "</div>"
      ],
      "text/plain": [
       "        Age    Tenure   Balance  NumOfProducts  HasCrCard  IsActiveMember  \\\n",
       "0 -0.242926  0.351456 -0.888770       0.818032   0.576124        0.988022   \n",
       "1 -0.695400  0.708740 -0.888770       0.818032   0.576124       -1.012123   \n",
       "2  0.548902 -0.720393  0.756908      -1.018327   0.576124       -1.012123   \n",
       "3  2.358796  1.066023  1.226227      -1.018327  -1.735737       -1.012123   \n",
       "4 -1.487229 -0.005827 -0.888770       0.818032   0.576124        0.988022   \n",
       "\n",
       "   EstimatedSalary  Geography_France  Geography_Germany  Geography_Spain  \\\n",
       "0         0.566877          0.866384          -0.514730        -0.530035   \n",
       "1         1.294281          0.866384          -0.514730        -0.530035   \n",
       "2         1.439798         -1.154223           1.942767        -0.530035   \n",
       "3        -0.827333          0.866384          -0.514730        -0.530035   \n",
       "4        -0.347816          0.866384          -0.514730        -0.530035   \n",
       "\n",
       "   Gender_Female  Gender_Male  \n",
       "0      -0.869450     0.869450  \n",
       "1      -0.869450     0.869450  \n",
       "2      -0.869450     0.869450  \n",
       "3       1.150152    -1.150152  \n",
       "4       1.150152    -1.150152  "
      ]
     },
     "execution_count": 88,
     "metadata": {},
     "output_type": "execute_result"
    }
   ],
   "source": [
    "x_train_scaled.head()"
   ]
  },
  {
   "cell_type": "code",
   "execution_count": 89,
   "id": "3ac3c30c",
   "metadata": {},
   "outputs": [],
   "source": [
    "#Random Forest dan Xgboost \n",
    "from sklearn.ensemble import RandomForestClassifier\n",
    "from xgboost import XGBClassifier"
   ]
  },
  {
   "cell_type": "code",
   "execution_count": 90,
   "id": "ddaa2f5b",
   "metadata": {},
   "outputs": [],
   "source": [
    "#deklarasi model\n",
    "rf_model = RandomForestClassifier(random_state = 42)\n",
    "xgb_model = XGBClassifier(random_state = 42)"
   ]
  },
  {
   "cell_type": "code",
   "execution_count": 91,
   "id": "19c30c36",
   "metadata": {},
   "outputs": [],
   "source": [
    "#metriks evaluasi\n",
    "from sklearn.metrics import classification_report"
   ]
  },
  {
   "cell_type": "code",
   "execution_count": 98,
   "id": "23555815",
   "metadata": {},
   "outputs": [
    {
     "name": "stdout",
     "output_type": "stream",
     "text": [
      "              precision    recall  f1-score   support\n",
      "\n",
      "           0       0.89      0.94      0.91      9794\n",
      "           1       0.71      0.54      0.61      2584\n",
      "\n",
      "    accuracy                           0.86     12378\n",
      "   macro avg       0.80      0.74      0.76     12378\n",
      "weighted avg       0.85      0.86      0.85     12378\n",
      "\n"
     ]
    }
   ],
   "source": [
    "#uji model random forest\n",
    "rf_model.fit(x_train_scaled,y_train)\n",
    "pred = rf_model.predict(x_test_scaled)\n",
    "print(classification_report(y_test,pred))"
   ]
  },
  {
   "cell_type": "code",
   "execution_count": 99,
   "id": "aa4a4c0d",
   "metadata": {},
   "outputs": [
    {
     "name": "stdout",
     "output_type": "stream",
     "text": [
      "              precision    recall  f1-score   support\n",
      "\n",
      "           0       0.89      0.95      0.92      9794\n",
      "           1       0.73      0.54      0.62      2584\n",
      "\n",
      "    accuracy                           0.86     12378\n",
      "   macro avg       0.81      0.75      0.77     12378\n",
      "weighted avg       0.85      0.86      0.86     12378\n",
      "\n"
     ]
    }
   ],
   "source": [
    "#uji model XGBoost\n",
    "xgb_model.fit(x_train_scaled,y_train)\n",
    "pred =xgb_model.predict(x_test_scaled)\n",
    "print(classification_report(y_test,pred))"
   ]
  },
  {
   "cell_type": "markdown",
   "id": "870216ce",
   "metadata": {},
   "source": [
    "#### As can be seen, XGBoost classifier outperform the RandomForest classifier by a small margin, however it proves that XGBoost classifier is the superior model, therefore we will be using XGBoost model."
   ]
  },
  {
   "cell_type": "code",
   "execution_count": 100,
   "id": "1da11071",
   "metadata": {},
   "outputs": [],
   "source": [
    "#save to pickle format\n",
    "import pickle"
   ]
  },
  {
   "cell_type": "code",
   "execution_count": 101,
   "id": "9d8fcbed",
   "metadata": {},
   "outputs": [],
   "source": [
    "#set filename\n",
    "filename = 'XGBClassifier.pkl'\n",
    "pickle.dump(xgb_model, open(filename,'wb'))"
   ]
  },
  {
   "cell_type": "code",
   "execution_count": 108,
   "id": "5fd9dce8",
   "metadata": {},
   "outputs": [
    {
     "name": "stdout",
     "output_type": "stream",
     "text": [
      "0.8629019227661981\n",
      "XGBoost model trained and exported to: C:\\Users\\cornelius\n"
     ]
    }
   ],
   "source": [
    "export_path = r\"C:\\Users\\cornelius\"\n",
    "\n",
    "loaded_XGB = pickle.load(open(filename, 'rb'))\n",
    "result = loaded_XGB.score(x_test_scaled, y_test)\n",
    "print(result)\n",
    "\n",
    "print(f\"XGBoost model trained and exported to: {export_path}\")"
   ]
  }
 ],
 "metadata": {
  "kernelspec": {
   "display_name": "Python 3 (ipykernel)",
   "language": "python",
   "name": "python3"
  },
  "language_info": {
   "codemirror_mode": {
    "name": "ipython",
    "version": 3
   },
   "file_extension": ".py",
   "mimetype": "text/x-python",
   "name": "python",
   "nbconvert_exporter": "python",
   "pygments_lexer": "ipython3",
   "version": "3.10.13"
  }
 },
 "nbformat": 4,
 "nbformat_minor": 5
}
